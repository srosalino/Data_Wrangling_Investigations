{
 "cells": [
  {
   "cell_type": "markdown",
   "metadata": {},
   "source": [
    "# Assignment 3"
   ]
  },
  {
   "cell_type": "markdown",
   "metadata": {},
   "source": [
    "* <b>Do not change the structure</b> of the notebook, only fill in the parts where your code needs to be filled in.\n",
    "\n",
    "---\n",
    "\n",
    "* Read carefully if the assignment asks for a Pandas **dataframe** or a Pandas **series**.\n",
    "\n",
    "--- \n",
    "\n",
    "* For your notebook, <b>use as filename</b> `assignment03_vunetID.ipynb`, where `vunetID` is your three letter, three digit VU ID."
   ]
  },
  {
   "cell_type": "code",
   "execution_count": 61,
   "metadata": {
    "deletable": false,
    "editable": false,
    "nbgrader": {
     "cell_type": "code",
     "checksum": "cd3ecc13604d15a89bbb1bebcb80e5c5",
     "grade": false,
     "grade_id": "libraries",
     "locked": true,
     "schema_version": 3,
     "solution": false
    }
   },
   "outputs": [],
   "source": [
    "import numpy as np\n",
    "import pandas as pd\n",
    "import matplotlib.pyplot as plt\n",
    "pd.options.display.max_rows = 20\n",
    "np.set_printoptions(precision=4, suppress=True)"
   ]
  },
  {
   "cell_type": "markdown",
   "metadata": {},
   "source": [
    "### Datetime manipulations\n",
    "\n",
    "The Data Wrangling course started on Tuesday 10 January 2023 at 1.30 pm and will end on Friday 3 February 2023 at 5.00 pm. Calculate the duration of the course in minutes. Assign the value to the variable *duration*.\n"
   ]
  },
  {
   "cell_type": "code",
   "execution_count": 62,
   "metadata": {
    "deletable": false,
    "nbgrader": {
     "cell_type": "code",
     "checksum": "bf9d686d3d41aa5aa1801f06db6bd896",
     "grade": false,
     "grade_id": "duration",
     "locked": false,
     "schema_version": 3,
     "solution": true
    }
   },
   "outputs": [],
   "source": [
    "from datetime import datetime\n",
    "\n",
    "# YOUR CODE HERE\n",
    "start_time = datetime(2023, 1, 10, 13, 30)\n",
    "end_time = datetime(2023, 2, 3, 17)\n",
    "duration = ((end_time - start_time).total_seconds()) / 60\n",
    "# YOUR CODE ENDS HERE"
   ]
  },
  {
   "cell_type": "code",
   "execution_count": 63,
   "metadata": {
    "deletable": false,
    "editable": false,
    "nbgrader": {
     "cell_type": "code",
     "checksum": "a29b5a0fc095be7cd6b522a230f9a929",
     "grade": true,
     "grade_id": "duration-correct",
     "locked": true,
     "points": 1,
     "schema_version": 3,
     "solution": false
    }
   },
   "outputs": [
    {
     "name": "stdout",
     "output_type": "stream",
     "text": [
      "34770.0\n"
     ]
    }
   ],
   "source": [
    "print(duration)"
   ]
  },
  {
   "cell_type": "markdown",
   "metadata": {},
   "source": [
    "Below you will find the scheduled days of the course Data Wrangling. The values in the time series denote the number of contact hours spend on each lecture. Create a time series that calculates the cumulative sum of all the hours that you have spent on the course. Assign the cumulative sum up to 31 January 2023 to the variable *cum_hours*."
   ]
  },
  {
   "cell_type": "code",
   "execution_count": 64,
   "metadata": {
    "deletable": false,
    "nbgrader": {
     "cell_type": "code",
     "checksum": "83a420cf5e95d0964b61af3ada3f9b1b",
     "grade": false,
     "grade_id": "cum-hours",
     "locked": false,
     "schema_version": 3,
     "solution": true
    }
   },
   "outputs": [],
   "source": [
    "from datetime import datetime\n",
    "from pandas.tseries.offsets import *\n",
    "\n",
    "\n",
    "dates = [datetime(2023, 1, 10), datetime(2023, 1, 11), datetime(2023, 1, 13),\n",
    "         datetime(2023, 1, 17), datetime(2023, 1, 18), datetime(2023, 1, 20),\n",
    "         datetime(2023, 1, 24), datetime(2023, 1, 25), datetime(2023, 1, 27),\n",
    "         datetime(2023, 1, 31), datetime(2023, 2,  1), datetime(2023, 2,  2),\n",
    "         datetime(2023, 2,  3)]\n",
    "ts = pd.Series([2, 2, 1, 2, 2, 1, 2, 2, 1, 3, 3, 3, 3], index = dates)\n",
    "\n",
    "# YOUR CODE HERE\n",
    "cum_hours = ts.loc[:\"2023-01-31\"].sum()\n",
    "# YOUR CODE ENDS HERE"
   ]
  },
  {
   "cell_type": "code",
   "execution_count": 65,
   "metadata": {
    "deletable": false,
    "editable": false,
    "nbgrader": {
     "cell_type": "code",
     "checksum": "57784831ec59646fe15372e10e21d1de",
     "grade": true,
     "grade_id": "cum-hours-correct",
     "locked": true,
     "points": 1,
     "schema_version": 3,
     "solution": false
    }
   },
   "outputs": [
    {
     "name": "stdout",
     "output_type": "stream",
     "text": [
      "18\n"
     ]
    }
   ],
   "source": [
    "print(cum_hours)"
   ]
  },
  {
   "cell_type": "markdown",
   "metadata": {},
   "source": [
    "Suppose that you want to become a world-class expert in data wrangling. So, you decide to spent 2 hours learning data wrangling every Tuesday in 2023. As you have a lot of free time every first Wednesday of the month, you spent 3 hours learning data wrangling those days in 2023. Calculate how many hours you will spend learning in 2023. Assign that value to the variable *study_hours*."
   ]
  },
  {
   "cell_type": "code",
   "execution_count": 66,
   "metadata": {
    "deletable": false,
    "nbgrader": {
     "cell_type": "code",
     "checksum": "92a179674f7e6b3479cdbc4561aaeee8",
     "grade": false,
     "grade_id": "study-hours",
     "locked": false,
     "schema_version": 3,
     "solution": true
    }
   },
   "outputs": [],
   "source": [
    "from datetime import datetime\n",
    "\n",
    "# YOUR CODE HERE\n",
    "tuesday_study = len(pd.date_range(\"2023-1-1\", \"2023-12-31\", freq=\"W-TUE\")) * 2\n",
    "wednesday_study = len(pd.date_range(\"2023-1-1\", \"2023-12-31\", freq=\"WOM-1WED\")) * 3\n",
    "study_hours = tuesday_study + wednesday_study\n",
    "# YOUR CODE ENDS HERE"
   ]
  },
  {
   "cell_type": "code",
   "execution_count": 67,
   "metadata": {
    "deletable": false,
    "editable": false,
    "nbgrader": {
     "cell_type": "code",
     "checksum": "1451e80574e09826ecd30ccc3a7bc10e",
     "grade": true,
     "grade_id": "study-hours-correct",
     "locked": true,
     "points": 1,
     "schema_version": 3,
     "solution": false
    }
   },
   "outputs": [
    {
     "name": "stdout",
     "output_type": "stream",
     "text": [
      "140\n"
     ]
    }
   ],
   "source": [
    "print(study_hours)"
   ]
  },
  {
   "cell_type": "markdown",
   "metadata": {},
   "source": [
    "Generate all business days in 2023 that start at the first weekday of the month. Calculate how many of these days fall on the second day of the month. Assign that value to the variable *second_days*."
   ]
  },
  {
   "cell_type": "code",
   "execution_count": 68,
   "metadata": {
    "deletable": false,
    "nbgrader": {
     "cell_type": "code",
     "checksum": "ae7db5c74fde90029f625c4bb2537c4f",
     "grade": false,
     "grade_id": "second-days",
     "locked": false,
     "schema_version": 3,
     "solution": true
    }
   },
   "outputs": [],
   "source": [
    "from datetime import datetime\n",
    "\n",
    "# YOUR CODE HERE\n",
    "first_businesses_days = pd.date_range(\"2023-1-1\", \"2023-12-31\", freq=\"BMS\")\n",
    "second_days = len(first_businesses_days[first_businesses_days.day == 2])\n",
    "# YOUR CODE ENDS HERE"
   ]
  },
  {
   "cell_type": "code",
   "execution_count": 69,
   "metadata": {
    "deletable": false,
    "editable": false,
    "nbgrader": {
     "cell_type": "code",
     "checksum": "6c3ed869875d09e70f8edddb52ca01ca",
     "grade": true,
     "grade_id": "second-days-correct",
     "locked": true,
     "points": 1,
     "schema_version": 3,
     "solution": false
    }
   },
   "outputs": [
    {
     "name": "stdout",
     "output_type": "stream",
     "text": [
      "2\n"
     ]
    }
   ],
   "source": [
    "print(second_days)"
   ]
  },
  {
   "cell_type": "markdown",
   "metadata": {},
   "source": [
    "The first blood moon in 2023 will fall on 5 May 2023 at 21.17 pm in Amsterdam. Calculate what time it will be in Sydney (Australia) at that exact moment. Assign the answer to *bloodmoon*."
   ]
  },
  {
   "cell_type": "code",
   "execution_count": 70,
   "metadata": {
    "deletable": false,
    "nbgrader": {
     "cell_type": "code",
     "checksum": "add92fab4a7cd8adf9bea590d25fb559",
     "grade": false,
     "grade_id": "bloodmoon",
     "locked": false,
     "schema_version": 3,
     "solution": true
    }
   },
   "outputs": [],
   "source": [
    "from datetime import datetime\n",
    "import pytz\n",
    "\n",
    "# YOUR CODE HERE\n",
    "bloodmoon_amsterdam = pd.Timestamp('2023-05-05 21:17', tz='Europe/Amsterdam')\n",
    "bloodmoon = bloodmoon_amsterdam.tz_convert('Australia/Sydney')\n",
    "# YOUR CODE ENDS HERE"
   ]
  },
  {
   "cell_type": "code",
   "execution_count": 71,
   "metadata": {
    "deletable": false,
    "editable": false,
    "nbgrader": {
     "cell_type": "code",
     "checksum": "c6bbb7d8603e0e953d96a3ada9e007ca",
     "grade": true,
     "grade_id": "bloodmoon-correct",
     "locked": true,
     "points": 1,
     "schema_version": 3,
     "solution": false
    }
   },
   "outputs": [
    {
     "name": "stdout",
     "output_type": "stream",
     "text": [
      "2023-05-06 05:17:00+10:00\n"
     ]
    }
   ],
   "source": [
    "print(bloodmoon)"
   ]
  },
  {
   "cell_type": "markdown",
   "metadata": {},
   "source": [
    "### Sales volumes\n",
    "\n",
    "The file *volume.csv* contains sales volumes of different companies. Read the file, and calculate the mean sales volumes of each company in the year 2010. Assign the series to the variable *volumes2010*. "
   ]
  },
  {
   "cell_type": "code",
   "execution_count": 72,
   "metadata": {
    "deletable": false,
    "nbgrader": {
     "cell_type": "code",
     "checksum": "8e0334fe5abed654288ab914f300c2d5",
     "grade": false,
     "grade_id": "volumes2010",
     "locked": false,
     "schema_version": 3,
     "solution": true
    }
   },
   "outputs": [],
   "source": [
    "file = 'volume.csv'\n",
    "\n",
    "# YOUR CODE HERE\n",
    "volumes2010 = pd.read_csv(file, index_col=0, parse_dates=[0], infer_datetime_format=True)\n",
    "volumes2010 = volumes2010[volumes2010.index.year == 2010].mean()\n",
    "# YOUR CODE ENDS HERE"
   ]
  },
  {
   "cell_type": "code",
   "execution_count": 73,
   "metadata": {
    "deletable": false,
    "editable": false,
    "nbgrader": {
     "cell_type": "code",
     "checksum": "5b85b2016c1457229112f0b071bf9d2b",
     "grade": true,
     "grade_id": "volumes2010-correct",
     "locked": true,
     "points": 1,
     "schema_version": 3,
     "solution": false
    }
   },
   "outputs": [
    {
     "name": "stdout",
     "output_type": "stream",
     "text": [
      "AA      3.113912e+07\n",
      "AAPL    2.140376e+07\n",
      "GE      7.223856e+07\n",
      "IBM     6.422816e+06\n",
      "JNJ     1.214678e+07\n",
      "MSFT    6.306716e+07\n",
      "PEP     6.962504e+06\n",
      "SPX     4.566245e+09\n",
      "XOM     2.643224e+07\n",
      "dtype: float64\n"
     ]
    }
   ],
   "source": [
    "print(volumes2010)"
   ]
  },
  {
   "cell_type": "markdown",
   "metadata": {},
   "source": [
    "On which day did the sales volume of Apple (*AAPL*) overtake the sales volume of Microsoft (*MSFT*) for the first time? Calculate the value and assign the timestamp to the variable *changeover*."
   ]
  },
  {
   "cell_type": "code",
   "execution_count": 74,
   "metadata": {
    "deletable": false,
    "nbgrader": {
     "cell_type": "code",
     "checksum": "51c0e9d0a7a2c7d12196eb1405144de1",
     "grade": false,
     "grade_id": "changeover",
     "locked": false,
     "schema_version": 3,
     "solution": true
    }
   },
   "outputs": [],
   "source": [
    "file = 'volume.csv'\n",
    "\n",
    "# YOUR CODE HERE\n",
    "volume = pd.read_csv(file, index_col=0, parse_dates=[0], infer_datetime_format=True)\n",
    "changeover = volume[volume['AAPL'] > volume['MSFT']].index[0]\n",
    "# YOUR CODE ENDS HERE"
   ]
  },
  {
   "cell_type": "code",
   "execution_count": 75,
   "metadata": {
    "deletable": false,
    "editable": false,
    "nbgrader": {
     "cell_type": "code",
     "checksum": "5619ee14e4174aa35cbec2e33ca2ac66",
     "grade": true,
     "grade_id": "changeover-correct",
     "locked": true,
     "points": 1,
     "schema_version": 3,
     "solution": false
    }
   },
   "outputs": [
    {
     "name": "stdout",
     "output_type": "stream",
     "text": [
      "1992-08-06 00:00:00\n"
     ]
    }
   ],
   "source": [
    "print(changeover)"
   ]
  },
  {
   "cell_type": "markdown",
   "metadata": {},
   "source": [
    "Format the date that you have found in a nicer way corresponding to the style dd/mm/yy. Thus, the day (dd), month (mm), and the year (yy) are formatted in 2 digits, separated by slashes. Assign the string to the variable *nicedate*."
   ]
  },
  {
   "cell_type": "code",
   "execution_count": 76,
   "metadata": {
    "deletable": false,
    "nbgrader": {
     "cell_type": "code",
     "checksum": "db9c43b9cebdb5c4e984121eda1c577b",
     "grade": false,
     "grade_id": "nicedate",
     "locked": false,
     "schema_version": 3,
     "solution": true
    }
   },
   "outputs": [],
   "source": [
    "# YOUR CODE HERE\n",
    "nicedate = changeover.strftime('%d/%m/%y')\n",
    "# YOUR CODE ENDS HERE"
   ]
  },
  {
   "cell_type": "code",
   "execution_count": 77,
   "metadata": {
    "deletable": false,
    "editable": false,
    "nbgrader": {
     "cell_type": "code",
     "checksum": "096c0641190fc60828422b99c02ce24f",
     "grade": true,
     "grade_id": "nicedate-correct",
     "locked": true,
     "points": 1,
     "schema_version": 3,
     "solution": false
    }
   },
   "outputs": [
    {
     "name": "stdout",
     "output_type": "stream",
     "text": [
      "06/08/92\n"
     ]
    }
   ],
   "source": [
    "print(nicedate)"
   ]
  },
  {
   "cell_type": "markdown",
   "metadata": {},
   "source": [
    "Apple has to report every end of the year (31 December) what its current sales volume is (not cumulative!). Create a time series for every year with the sales volume listed for Apple (AAPL) on 31 December. If the data does not contain a record for this date, then take the last known value that this known prior to that date. Assign the time series to the variable *apple_report*."
   ]
  },
  {
   "cell_type": "code",
   "execution_count": 78,
   "metadata": {
    "deletable": false,
    "nbgrader": {
     "cell_type": "code",
     "checksum": "50dc840332b40030dc78d68c44d1215c",
     "grade": false,
     "grade_id": "apple-report",
     "locked": false,
     "schema_version": 3,
     "solution": true
    }
   },
   "outputs": [],
   "source": [
    "# YOUR CODE HERE\n",
    "apple_report = volume.groupby(pd.PeriodIndex(volume.index, freq='A-DEC'))[\"AAPL\"].last()\n",
    "# YOUR CODE ENDS HERE"
   ]
  },
  {
   "cell_type": "code",
   "execution_count": 79,
   "metadata": {
    "deletable": false,
    "editable": false,
    "nbgrader": {
     "cell_type": "code",
     "checksum": "361fb4b723176ee48e027cb430e49dfd",
     "grade": true,
     "grade_id": "apple-report-correct",
     "locked": true,
     "points": 1,
     "schema_version": 3,
     "solution": false
    }
   },
   "outputs": [
    {
     "name": "stdout",
     "output_type": "stream",
     "text": [
      "1990     1593200.0\n",
      "1991     4802000.0\n",
      "1992     3302000.0\n",
      "1993     5765200.0\n",
      "1994     2616400.0\n",
      "           ...    \n",
      "2007    19261900.0\n",
      "2008    21697900.0\n",
      "2009    12586100.0\n",
      "2010     6911000.0\n",
      "2011    20450000.0\n",
      "Freq: A-DEC, Name: AAPL, Length: 22, dtype: float64\n"
     ]
    }
   ],
   "source": [
    "print(apple_report)"
   ]
  },
  {
   "cell_type": "markdown",
   "metadata": {},
   "source": [
    "The volumes of Apple are highly fluctuating over time. You can clearly see that when you make a plot. It would be better to smooth out the sales volume by taking a moving average with a period of 200 days. Calculate the moving average of the sales volume and assign the series to the variable *apple_smooth*. Create a plot with the original time series and the smooth version of the time series."
   ]
  },
  {
   "cell_type": "code",
   "execution_count": 80,
   "metadata": {
    "deletable": false,
    "nbgrader": {
     "cell_type": "code",
     "checksum": "800a9b3992a6a62b3b3f3319cca9de13",
     "grade": false,
     "grade_id": "apple-smooth",
     "locked": false,
     "schema_version": 3,
     "solution": true
    }
   },
   "outputs": [
    {
     "data": {
      "text/plain": [
       "<AxesSubplot:>"
      ]
     },
     "execution_count": 80,
     "metadata": {},
     "output_type": "execute_result"
    },
    {
     "data": {
      "image/png": "[encoded data removed]",
      "text/plain": [
       "<Figure size 432x288 with 1 Axes>"
      ]
     },
     "metadata": {
      "needs_background": "light"
     },
     "output_type": "display_data"
    }
   ],
   "source": [
    "# YOUR CODE HERE\n",
    "volume[\"AAPL\"].plot()\n",
    "apple_smooth = volume[\"AAPL\"].rolling('200D').mean()\n",
    "apple_smooth.plot()\n",
    "# YOUR CODE ENDS HERE"
   ]
  },
  {
   "cell_type": "code",
   "execution_count": 81,
   "metadata": {
    "deletable": false,
    "editable": false,
    "nbgrader": {
     "cell_type": "code",
     "checksum": "412abdfa9f67643ad3bbb4c1b986c5a1",
     "grade": true,
     "grade_id": "apple-smooth-correct",
     "locked": true,
     "points": 1,
     "schema_version": 3,
     "solution": false
    }
   },
   "outputs": [
    {
     "name": "stdout",
     "output_type": "stream",
     "text": [
      "1990-02-01    4.193200e+06\n",
      "1990-02-02    4.221000e+06\n",
      "1990-02-05    4.031733e+06\n",
      "1990-02-06    3.683800e+06\n",
      "1990-02-07    5.183200e+06\n",
      "                  ...     \n",
      "2011-10-10    1.819845e+07\n",
      "2011-10-11    1.823886e+07\n",
      "2011-10-12    1.826741e+07\n",
      "2011-10-13    1.824534e+07\n",
      "2011-10-14    1.831250e+07\n",
      "Name: AAPL, Length: 5472, dtype: float64\n"
     ]
    }
   ],
   "source": [
    "print(apple_smooth)"
   ]
  }
 ],
 "metadata": {
  "kernelspec": {
   "display_name": "Python 3 (ipykernel)",
   "language": "python",
   "name": "python3"
  },
  "language_info": {
   "codemirror_mode": {
    "name": "ipython",
    "version": 3
   },
   "file_extension": ".py",
   "mimetype": "text/x-python",
   "name": "python",
   "nbconvert_exporter": "python",
   "pygments_lexer": "ipython3",
   "version": "3.10.4"
  }
 },
 "nbformat": 4,
 "nbformat_minor": 4
}
